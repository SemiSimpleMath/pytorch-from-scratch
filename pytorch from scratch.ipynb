{
 "cells": [
  {
   "cell_type": "markdown",
   "metadata": {},
   "source": [
    "# Writing a training loop from scratch.\n",
    "\n",
    "The aim of this project is to recreate the Pytorch nn.model and write all training code from scratch only using basic numpy stuff.  This project is inspired by fast.ai course where they rewrite much of pytorch.  Although Some of the code comes directly from fast.ai, I am writing everything in my own style (except where it made no sense to reinvent the wheel).  Furthermore, I am diving lot deeper into some topics that fast.ai just mskimmed over.  In particular I explain in detail the math underlying backpropagation and discuss cross entropy and its gradient.  This project to me was tremendously useful.  Although I have trained many neural nets in various projects I have always used full machinery of pytorch.  \n",
    "\n",
    "- I now undertstand pytorch and neural nets in much deeper way.\n",
    "- I always knew that backpropagation was just a chain rule, but now I understand how to implement it and all little details are now clear.  e.g. Why is it that in a linear layer the outgoing grad is multiplied by the tranpose of the weight matrix.\n",
    "- I see the beuty and simplicity in the implementation of the backpropagation where we just have to keep track of inp.g and out.g for each layer and how to compute each of them.\n",
    "- This project brought forth a lot of tricky concepts like broadcasting.  It also made taught me the importance of initializing weights properly.  (kaiming init.)  \n",
    "- I had to consider all sorts of computational tricks so that values would not \"blow up\".  This was particularly the case in computation of softmax and cross entropy.\n"
   ]
  },
  {
   "cell_type": "markdown",
   "metadata": {},
   "source": [
    "## Imports"
   ]
  },
  {
   "cell_type": "code",
   "execution_count": 1,
   "metadata": {},
   "outputs": [],
   "source": [
    "from pathlib import Path\n",
    "from IPython.core.debugger import set_trace\n",
    "import pickle, gzip, math, torch, matplotlib as mpl\n",
    "import matplotlib.pyplot as plt\n",
    "from torch import tensor"
   ]
  },
  {
   "cell_type": "markdown",
   "metadata": {},
   "source": [
    "## Getting the MNIST data"
   ]
  },
  {
   "cell_type": "code",
   "execution_count": 2,
   "metadata": {},
   "outputs": [
    {
     "name": "stdout",
     "output_type": "stream",
     "text": [
      "D:\\pytorch from scartch\\data\\mnist.pkl.gz\n"
     ]
    }
   ],
   "source": [
    "#Get MNIST data\n",
    "MNIST_PATH='D:\\\\pytorch from scartch\\data\\\\'\n",
    "MNIST_FILE = MNIST_PATH + \"mnist.pkl.gz\"\n",
    "print (MNIST_FILE)"
   ]
  },
  {
   "cell_type": "code",
   "execution_count": 3,
   "metadata": {},
   "outputs": [],
   "source": [
    "with gzip.open(MNIST_FILE, 'rb') as f:\n",
    "    ((x_train, y_train), (x_valid, y_valid), _) = pickle.load(f, encoding='latin-1')"
   ]
  },
  {
   "cell_type": "code",
   "execution_count": 4,
   "metadata": {},
   "outputs": [
    {
     "data": {
      "text/plain": [
       "(tensor([[0., 0., 0.,  ..., 0., 0., 0.],\n",
       "         [0., 0., 0.,  ..., 0., 0., 0.],\n",
       "         [0., 0., 0.,  ..., 0., 0., 0.],\n",
       "         ...,\n",
       "         [0., 0., 0.,  ..., 0., 0., 0.],\n",
       "         [0., 0., 0.,  ..., 0., 0., 0.],\n",
       "         [0., 0., 0.,  ..., 0., 0., 0.]]),\n",
       " torch.Size([50000, 784]),\n",
       " tensor([5, 0, 4,  ..., 8, 4, 8]),\n",
       " torch.Size([50000]),\n",
       " tensor(0),\n",
       " tensor(9))"
      ]
     },
     "execution_count": 4,
     "metadata": {},
     "output_type": "execute_result"
    }
   ],
   "source": [
    "x_train, y_train, x_valid, y_valid = map(tensor, (x_train,y_train,x_valid,y_valid))\n",
    "n,c = x_train.shape\n",
    "x_train, x_train.shape, y_train, y_train.shape, y_train.min(), y_train.max()"
   ]
  },
  {
   "cell_type": "code",
   "execution_count": 5,
   "metadata": {},
   "outputs": [
    {
     "data": {
      "image/png": "[encoded data removed]",
      "text/plain": [
       "<Figure size 432x288 with 1 Axes>"
      ]
     },
     "metadata": {
      "needs_background": "light"
     },
     "output_type": "display_data"
    }
   ],
   "source": [
    "mpl.rcParams['image.cmap'] = 'gray'\n",
    "img = x_train[0]\n",
    "plt.imshow(img.view((28,28)));"
   ]
  },
  {
   "cell_type": "markdown",
   "metadata": {},
   "source": [
    "Writing the above into functions..."
   ]
  },
  {
   "cell_type": "code",
   "execution_count": 6,
   "metadata": {},
   "outputs": [],
   "source": [
    "def get_data():\n",
    "    with gzip.open(MNIST_FILE, 'rb') as f:\n",
    "        ((x_train, y_train), (x_valid, y_valid), _) = pickle.load(f, encoding='latin-1')\n",
    "    return map(tensor, (x_train,y_train,x_valid,y_valid))"
   ]
  },
  {
   "cell_type": "code",
   "execution_count": 7,
   "metadata": {},
   "outputs": [],
   "source": [
    "x_train,y_train,x_valid,y_valid = get_data()"
   ]
  },
  {
   "cell_type": "markdown",
   "metadata": {},
   "source": [
    "## How fast is matrix multiplication in python"
   ]
  },
  {
   "cell_type": "code",
   "execution_count": null,
   "metadata": {},
   "outputs": [],
   "source": [
    "a = torch.randn(3,4)\n",
    "b = torch.rand(4,3)"
   ]
  },
  {
   "cell_type": "markdown",
   "metadata": {},
   "source": [
    "An ordinary python way of writing matrix multiplication.  It has a horrible tripple nested for loop! We will use pytorch tricks such as broadcasting to simplify it."
   ]
  },
  {
   "cell_type": "code",
   "execution_count": null,
   "metadata": {},
   "outputs": [],
   "source": [
    "def matmul_1(a,b):\n",
    "    ar,ac = a.shape\n",
    "    br,bc = b.shape\n",
    "    assert ac == br, \"row size, colun size mismatch\"\n",
    "    c = torch.zeros(ar,bc)\n",
    "    for i in range (ar):\n",
    "        for j in range (bc):\n",
    "            for k in range (ac):\n",
    "                c[i][j] += a[i][k]*b[k][j]\n",
    "    return c"
   ]
  },
  {
   "cell_type": "code",
   "execution_count": null,
   "metadata": {},
   "outputs": [],
   "source": [
    "%time matmul_1(a,b)"
   ]
  },
  {
   "cell_type": "code",
   "execution_count": null,
   "metadata": {},
   "outputs": [],
   "source": [
    "print (a)\n",
    "print(b)\n",
    "print(a[1,:])\n",
    "print(b[:,0])\n",
    "print (a[1,:]*b[:,0])\n",
    "print ((a[1,:]*b[:,0]).sum())"
   ]
  },
  {
   "cell_type": "markdown",
   "metadata": {},
   "source": [
    "The next version eliminates one of the nested loops by using pytorch .sum that runs considerably faster."
   ]
  },
  {
   "cell_type": "code",
   "execution_count": null,
   "metadata": {},
   "outputs": [],
   "source": [
    "def matmul_2(a,b):\n",
    "    ar,ac = a.shape\n",
    "    br,bc = b.shape\n",
    "    assert ac == br, \"row size, colun size mismatch\"\n",
    "    c = torch.zeros(ar,bc)\n",
    "    for i in range (ar):\n",
    "        for j in range (bc):\n",
    "            c[i][j] = (a[i,:]*b[:,j]).sum()\n",
    "    return c"
   ]
  },
  {
   "cell_type": "code",
   "execution_count": null,
   "metadata": {},
   "outputs": [],
   "source": [
    "%time matmul_2(a,b)"
   ]
  },
  {
   "cell_type": "code",
   "execution_count": null,
   "metadata": {},
   "outputs": [],
   "source": [
    "a = torch.randn(3,4)\n",
    "b = torch.rand(4,3)\n",
    "print (a)\n",
    "print(b)\n",
    "print (a[1].unsqueeze(-1))\n",
    "c = torch.zeros(3,3)\n",
    "c[1]   = (a[1].unsqueeze(-1) * b).sum(dim=0)\n",
    "print (c)"
   ]
  },
  {
   "cell_type": "markdown",
   "metadata": {},
   "source": [
    "Next we use full power of broadcasting to eliminate the second for loop."
   ]
  },
  {
   "cell_type": "code",
   "execution_count": null,
   "metadata": {},
   "outputs": [],
   "source": [
    "def matmul_3(a,b):\n",
    "    ar,ac = a.shape\n",
    "    br,bc = b.shape\n",
    "    assert ac == br, \"row size, colun size mismatch\"\n",
    "    c = torch.zeros(ar,bc)\n",
    "    for i in range (ar):\n",
    "        c[1]   = (a[1].unsqueeze(-1) * b).sum(dim=0)\n",
    "    return c"
   ]
  },
  {
   "cell_type": "code",
   "execution_count": null,
   "metadata": {},
   "outputs": [],
   "source": [
    "%time matmul_3(a,b)"
   ]
  },
  {
   "cell_type": "markdown",
   "metadata": {},
   "source": [
    "Behind the scenes pytorch is using BLAS library to increase the speed to C speed."
   ]
  },
  {
   "cell_type": "markdown",
   "metadata": {},
   "source": [
    "As a final comparison let us compare this to pytorch @ operator."
   ]
  },
  {
   "cell_type": "code",
   "execution_count": null,
   "metadata": {},
   "outputs": [],
   "source": [
    "%time a@b"
   ]
  },
  {
   "cell_type": "markdown",
   "metadata": {},
   "source": [
    "## Weights\n",
    "set up some random weights and biases.  We will see later how these will have to be randomized in a better way to get a good std and mean."
   ]
  },
  {
   "cell_type": "code",
   "execution_count": null,
   "metadata": {},
   "outputs": [],
   "source": [
    "weights = torch.randn(784,10)"
   ]
  },
  {
   "cell_type": "code",
   "execution_count": null,
   "metadata": {},
   "outputs": [],
   "source": [
    "weights.shape"
   ]
  },
  {
   "cell_type": "markdown",
   "metadata": {},
   "source": [
    "We have 10 bias values"
   ]
  },
  {
   "cell_type": "code",
   "execution_count": null,
   "metadata": {},
   "outputs": [],
   "source": [
    "bias = torch.zeros(10) "
   ]
  },
  {
   "cell_type": "code",
   "execution_count": null,
   "metadata": {},
   "outputs": [],
   "source": [
    "m1 = x_valid[:5]\n",
    "m2 = weights\n",
    "m1.shape,m2.shape"
   ]
  },
  {
   "cell_type": "code",
   "execution_count": null,
   "metadata": {},
   "outputs": [],
   "source": [
    "%timeit -n 10 _=matmul_1(m1, m2)\n",
    "%timeit -n 10 _=matmul_2(m1, m2)\n",
    "%timeit -n 10 _=matmul_3(m1, m2)"
   ]
  },
  {
   "cell_type": "markdown",
   "metadata": {},
   "source": [
    "## Einstein summation notation"
   ]
  },
  {
   "cell_type": "code",
   "execution_count": null,
   "metadata": {},
   "outputs": [],
   "source": [
    "def einstein_matmul(a,b): return torch.einsum('ik,kj->ij', a, b)"
   ]
  },
  {
   "cell_type": "code",
   "execution_count": null,
   "metadata": {},
   "outputs": [],
   "source": [
    "%timeit -n 10 _=einstein_matmul(m1,m2)"
   ]
  },
  {
   "cell_type": "code",
   "execution_count": null,
   "metadata": {
    "scrolled": true
   },
   "outputs": [],
   "source": [
    "%timeit -n 10 _=einstein_matmul(m1,m2)\n",
    "%timeit -n 10 _=m1@m2"
   ]
  },
  {
   "cell_type": "markdown",
   "metadata": {},
   "source": [
    "Conclusion: @ is fastest because it uses libraries that ultimately compute with C speed or cuda speed."
   ]
  },
  {
   "cell_type": "markdown",
   "metadata": {},
   "source": [
    " We have 24*24 = 784 inputs and we have 10 outputs for the 10 classes."
   ]
  },
  {
   "cell_type": "markdown",
   "metadata": {},
   "source": [
    "## Forward and backward passes"
   ]
  },
  {
   "cell_type": "markdown",
   "metadata": {},
   "source": [
    "### Normalize data"
   ]
  },
  {
   "cell_type": "code",
   "execution_count": 27,
   "metadata": {},
   "outputs": [],
   "source": [
    "#this is used to normalize data\n",
    "def z_score(x,m,s): return (x-m)/s\n",
    "normalize = z_score"
   ]
  },
  {
   "cell_type": "code",
   "execution_count": null,
   "metadata": {},
   "outputs": [],
   "source": [
    "x_train_mean = x_train.mean()\n",
    "x_train_std = x_train.std()\n",
    "\n",
    "x_valid_mean = x_valid.mean()\n",
    "x_valid_std = x_valid.std()"
   ]
  },
  {
   "cell_type": "code",
   "execution_count": null,
   "metadata": {},
   "outputs": [],
   "source": [
    "print (x_train_mean, x_train_std,x_valid_mean,x_valid_std)"
   ]
  },
  {
   "cell_type": "code",
   "execution_count": null,
   "metadata": {},
   "outputs": [],
   "source": [
    "x_train = normalize(x_train, x_train_mean, x_train_std)\n",
    "x_valid = normalize(x_valid, x_valid_mean, x_valid_std)"
   ]
  },
  {
   "cell_type": "code",
   "execution_count": null,
   "metadata": {},
   "outputs": [],
   "source": [
    "print (x_train_mean, x_train_std,x_valid_mean,x_valid_std)"
   ]
  },
  {
   "cell_type": "markdown",
   "metadata": {},
   "source": [
    "### Define architecture"
   ]
  },
  {
   "cell_type": "markdown",
   "metadata": {},
   "source": [
    "Note that ideally we would set this up as a classification problem and use cross entropy loss, but I am following the fast.ai course and this is what they want to do initially.\n",
    "\n",
    "input is 28*28 = 784\n",
    "50 hidden layers\n",
    "1 output\n",
    "\n",
    "So we will go:\n",
    "\n",
    "784 -> 50 -> 1\n",
    "\n",
    "This means we have:\n",
    "Layer 1: input@weights1 + bias1 gives us a 50x1 vector.  Input is 1x786 We see that weights must be 786x50 and bias1 is 1x50.\n",
    "\n",
    "Activation layer: Before passing to the output layer we have an activation layer.  This can be ReLu\n",
    "\n",
    "Layer 2: We go 50->1. \n"
   ]
  },
  {
   "cell_type": "code",
   "execution_count": null,
   "metadata": {},
   "outputs": [],
   "source": [
    "input_size = 28 * 28\n",
    "num_hidden = 50 "
   ]
  },
  {
   "cell_type": "code",
   "execution_count": null,
   "metadata": {},
   "outputs": [],
   "source": [
    "weights1 = torch.randn(input_size, num_hidden)\n",
    "bias1 = torch.zeros(1,50)\n",
    "weights2 = torch.randn(50,1)\n",
    "bias2 = torch.zeros(1)"
   ]
  },
  {
   "cell_type": "markdown",
   "metadata": {},
   "source": [
    "Quick check that the pipeline is set up correctly"
   ]
  },
  {
   "cell_type": "code",
   "execution_count": null,
   "metadata": {},
   "outputs": [],
   "source": [
    "input_data = torch.randn(1, input_size)\n",
    "output_layer_1 = input_data @ weights1 + bias1\n",
    "\n",
    "print(\"Layer 1 output shape:\", output_layer_1.shape)\n",
    "\n",
    "output_layer_2 = output_layer_1 @ weights2\n",
    "\n",
    "print(\"Layer 2 output shape:\", output_layer_2.shape)"
   ]
  },
  {
   "cell_type": "code",
   "execution_count": null,
   "metadata": {},
   "outputs": [],
   "source": []
  },
  {
   "cell_type": "markdown",
   "metadata": {},
   "source": [
    "Kaiming init: Properly randomizes the weights to have mean 0 std 1.  You need this because otherwise you will run into vanishing gradients or exploding gradients."
   ]
  },
  {
   "cell_type": "code",
   "execution_count": null,
   "metadata": {},
   "outputs": [],
   "source": [
    "# I will write the Kaiming initialization here"
   ]
  },
  {
   "cell_type": "markdown",
   "metadata": {},
   "source": [
    "## Forward pass"
   ]
  },
  {
   "cell_type": "code",
   "execution_count": null,
   "metadata": {},
   "outputs": [],
   "source": [
    "def ReLU(x):\n",
    "    y = (x > 0)\n",
    "    y = y.type(torch.FloatTensor)\n",
    "    return x*y"
   ]
  },
  {
   "cell_type": "code",
   "execution_count": null,
   "metadata": {},
   "outputs": [],
   "source": [
    "def lin(x, weights, bias):\n",
    "    return x@weights + bias"
   ]
  },
  {
   "cell_type": "code",
   "execution_count": null,
   "metadata": {},
   "outputs": [],
   "source": [
    "# test data\n",
    "inp = torch.randn(1, input_size)\n",
    "weights1 = torch.randn(input_size, num_hidden)\n",
    "bias1 = torch.zeros(1,50)\n",
    "weights2 = torch.randn(50,1)\n",
    "bias2 = torch.zeros(1)"
   ]
  },
  {
   "cell_type": "code",
   "execution_count": null,
   "metadata": {},
   "outputs": [],
   "source": [
    "m = 784\n",
    "nh = 50\n",
    "# simplified kaiming init / he init\n",
    "weights1 = torch.randn(m,nh)/math.sqrt(m)\n",
    "bias1 = torch.zeros(nh)\n",
    "weights2 = torch.randn(nh,1)/math.sqrt(nh)\n",
    "bias2 = torch.zeros(1)"
   ]
  },
  {
   "cell_type": "code",
   "execution_count": null,
   "metadata": {},
   "outputs": [],
   "source": [
    "def forward_pass(inp, weights1, bias1, weights2, bias2):    \n",
    "    lin1_out = lin(inp, weights1, bias1)\n",
    "    relu_out = ReLU(lin1_out)\n",
    "    lin2_out = lin(relu_out, weights2, bias2)\n",
    "    \n",
    "    return lin2_out"
   ]
  },
  {
   "cell_type": "code",
   "execution_count": null,
   "metadata": {},
   "outputs": [],
   "source": [
    "preds = forward_pass(inp, weights1, bias1, weights2, bias2)"
   ]
  },
  {
   "cell_type": "code",
   "execution_count": null,
   "metadata": {},
   "outputs": [],
   "source": [
    "preds.mean()"
   ]
  },
  {
   "cell_type": "code",
   "execution_count": null,
   "metadata": {},
   "outputs": [],
   "source": [
    "preds.std()"
   ]
  },
  {
   "cell_type": "markdown",
   "metadata": {},
   "source": [
    "## Loss function"
   ]
  },
  {
   "cell_type": "code",
   "execution_count": null,
   "metadata": {},
   "outputs": [],
   "source": [
    "# MSE loss\n",
    "def MSE(target, inp):\n",
    "    return (target - inp).pow(2).mean()"
   ]
  },
  {
   "cell_type": "code",
   "execution_count": null,
   "metadata": {},
   "outputs": [],
   "source": [
    "inp = x_train\n",
    "preds = forward_pass(inp,weights1,bias1,weights2,bias2)\n",
    "print(preds.shape)"
   ]
  },
  {
   "cell_type": "code",
   "execution_count": null,
   "metadata": {},
   "outputs": [],
   "source": [
    "y_train,y_valid = y_train.float(),y_valid.float()\n",
    "MSE(y_train,preds)"
   ]
  },
  {
   "cell_type": "markdown",
   "metadata": {},
   "source": [
    "# Backward pass"
   ]
  },
  {
   "cell_type": "markdown",
   "metadata": {},
   "source": [
    "Backward pass is all about the chain rule.  \n",
    "\n",
    "Assume we have the following architecture:\n",
    "\n",
    "$$\\text{Input} \\rightarrow L_1 \\rightarrow L_2 \\rightarrow \\dots \\rightarrow L_n \\rightarrow \\text Loss$$\n",
    "\n",
    "It suffices to look at a layer $L$.  We assume this is some layer in the middle.  It has an input $x$ which is a vector (more generally a tensor, but let us consider the vector case since the generalizationis trivial.) of size $k$ and output is a vector of size $l$.  We can consider how the loss $f$ changes as a function of the output of $L$.  Note that we can define the loss function to be $F$ to be the composition of all layers after L and the final loss function $f$.  This gives us the ability to view $L$ as the last layer before the loss.  We define the input to $L$ to be $x$. We now want to know how the parameters of $L$ should be adjusted to minimize the loss. Let us compute with a concerete example.  We will take $L$ to be a linear layer with $3$ neurons and output of $2$ values.  To simplify things a bit I will ignore bias although it is easy to include it and it changes nothing.\n",
    "\n",
    "The weight matrix $w$ is then a $3x2$ matrix. The loss with respect to the outputput of $L$ is:\n",
    "\n",
    "$$F = F((f_1(x), f_2(x)))$$\n",
    "\n",
    "Here $f_1(x) = x \\cdot w_1$ where $w_1$ is first row of $w$ and $f_2(x) = x \\cdot w_2$ where $w_2$ is the second row of w.\n",
    "\n",
    "Lets denote $f_1(x)$ as $out_1$ and $f_2(x)$ as $out_2$.  Then the gradient of $F$ is $(\\frac{\\partial F}{\\partial out_1}, \\frac{\\partial F}{\\partial out_2})$.\n",
    "\n",
    "This is used as layers out.g.  \n",
    "\n",
    "$$\\text{out.g} = (\\frac{\\partial F}{\\partial out_1}, \\frac{\\partial F}{\\partial out_2})$$\n",
    "\n",
    "We can now ask what is out.g for the previous layer? This is the gradient of loss wrt output of the previous layer put through $L$.  The output of previous layer is a vector of dim $3$.\n",
    "\n",
    "This is the gradient of the loss wrt to the input into $L$, $x = (x_1, x_2, x_3)$\n",
    "\n",
    "This is $(\\frac{\\partial F}{\\partial x_1}, \\frac{\\partial F}{\\partial x_2}, \\frac{\\partial F}{\\partial x_3})$.\n",
    "\n",
    "Which in turn is:\n",
    "\n",
    "$$\\left(\\frac{\\partial F(f_1(x_1, x_2, x_3), f_2((x_1, x_2, x_3))}{\\partial x_1}, \\frac{\\partial F(f_1(x_1, x_2, x_3), f_2((x_1, x_2, x_3))}{\\partial x_2}, \\frac{\\partial F(f_1(x_1, x_2, x_3), f_2((x_1, x_2, x_3))}{\\partial x_3}\\right )$$\n",
    "\n",
    "Let us write $g(x) = (f_1(x), f_2(x))$\n",
    "\n",
    "Using the chain rule:\n",
    "\n",
    "$$\\left( out.g \\cdot \\frac{\\partial g(x)}{\\partial x_1}, out.g \\cdot \\frac{\\partial g(x)}{\\partial x_2}, out.g \\cdot \\frac{\\partial g(x)}{\\partial x_3} \\right)$$\n",
    "\n",
    "This can be written in the matrix form.  \n",
    "\n",
    "$\\begin{bmatrix}out.g_1 && out.g_2\\end{bmatrix} \\begin{bmatrix}\\frac{\\partial f_1(x)}{\\partial x_1} && \\frac{\\partial f_1(x)}{\\partial x_2} && \\frac{\\partial f_1(x)}{\\partial x_3}\\\\\\frac{\\partial f_2(x)}{\\partial x_1} && \\frac{\\partial f_2(x)}{\\partial x_2} && \\frac{\\partial f_2(x)}{\\partial x_3}\\end{bmatrix}$\n",
    "\n",
    "Note that $w = \\begin{bmatrix}w_{11} && w_{12}\\\\ w_{21} && w_{22} \\\\ w_{31} && w_{32}  \\end{bmatrix}$\n",
    "\n",
    "Output of the linear layer (apart from the bias) is:\n",
    "\n",
    "$$\\begin{bmatrix} x_1 && x_2 && x_3 \\end{bmatrix} \\begin{bmatrix}w_{11} && w_{12}\\\\ w_{21} && w_{22} \\\\ w_{31} && w_{32}\\end{bmatrix} = (x_1 w_{11} + x_2 w_{12} + x_3 w_{13}, x_1 w_{21} + x_2 w_{22} + x_3 w_{23}) = (f_1(x), f_2(x)) $$\n",
    "\n",
    "We can immediately see that $\\frac{\\partial f_i(x)}{\\partial x_j} = w_{ij}$\n",
    "\n",
    "Hence we arrive at the important result:\n",
    "\n",
    "$$\\text{inp.g} = \\text{out.g} @ w^T$$\n",
    "\n",
    "Some important comments on inp.g:\n",
    "\n",
    "- This inp.g is the out.g of the previous layer and can in turn be used to calculate its inp.g in similar manner.\n",
    "\n",
    "- We calculate the gradients in reverse order always utilizing the next layers inp.g to calculate the inp.g for previous layer.\n",
    "\n",
    "- For linear layer we can calculate the gradients for the weights and bias using the out.g\n",
    "\n",
    "To calculate how to vary the parameters we need to calculate $\\frac{\\partial F}{\\partial w_{ij}} = \\frac{\\partial F}{\\partial out_1}\\frac{\\partial out_1}{\\partial w_{ij}} + \\frac{\\partial F}{\\partial out_2}\\frac{\\partial out_2}{\\partial w_{ij}}$\n",
    "\n",
    "$\\frac{\\partial out_1}{\\partial w_{ij}} = 0$ if $i \\neq 1$ similarly for $\\frac{\\partial out_2}{\\partial w_{ij}}$ \n",
    "\n",
    "Let us consider $w_{1j}$.  Then $\\frac{\\partial F}{\\partial w_{1j}} = \\frac{\\partial F}{\\partial out_1}\\frac{\\partial out_1}{\\partial w_{1j}}$\n",
    "\n",
    "$\\frac{\\partial out_1}{\\partial w_{1j}} = x_j$\n",
    "\n",
    "So $\\frac{\\partial F}{\\partial w_{1j}} = \\frac{\\partial F}{\\partial out_1} \\cdot x_j$ and $\\frac{\\partial F}{\\partial w_{2j}} = \\frac{\\partial F}{\\partial out_2} \\cdot x_j$\n",
    "\n",
    "This means that the $w.g$ matrix looks like:\n",
    "\n",
    "\\begin{bmatrix}x_1 \\text{out}_1.g && x_1 \\text{out}_2.g \\\\ x_2 \\text{out}_1.g && x_2 \\text{out}_2.g \\\\ x_3 \\text{out}_1.g && x_3 \\text{out}_2.g  \\end{bmatrix}\n",
    "\n",
    "This is inp.g broadcast in axis 1 entrywise multiplied by out.g: inp.unsqueeze(-1) * out.g.unsqueeze(1)\n",
    "\n",
    "We can compute bias.g. We need to find $\\frac{\\partial F}{\\partial b_1} = \\frac{\\partial F}{\\partial out_1}\\frac{\\partial out_1}{\\partial b_1}$\n",
    "\n",
    "$\\frac{\\partial out_1}{\\partial b_1} = 1$\n",
    "\n",
    "So  $\\frac{\\partial F}{\\partial b_1} = \\frac{\\partial F}{\\partial out_1}$\n",
    "\n",
    "Similarly $\\frac{\\partial F}{\\partial b_2} = \\frac{\\partial F}{\\partial out_2}$\n",
    "\n",
    "\n",
    "We have the result:\n",
    "\n",
    "$\\text{bias.g} = out.g$"
   ]
  },
  {
   "cell_type": "markdown",
   "metadata": {},
   "source": [
    "## Demo on how to implement w.g"
   ]
  },
  {
   "cell_type": "code",
   "execution_count": null,
   "metadata": {},
   "outputs": [],
   "source": [
    "a_test= torch.randn(1,3)\n",
    "print (\"a_test: \\n\", a_test, \"\\n\")\n",
    "\n",
    "print (\"a_test.unsqueeze(-1):\\n\", a_test.unsqueeze(-1))\n",
    "\n",
    "print(\"------------------------------\\n\")\n",
    "\n",
    "b_test = torch.rand(1,2)\n",
    "print(\"b_test: \\n\",b_test)\n",
    "print (\"b_test.unsqueeze(1): \\n\", b_test.unsqueeze(1), \"\\n\")\n",
    "\n",
    "print(\"------------------------------\\n\")\n",
    "\n",
    "print (\"a_test.unsqueeze(-1) * b_test.unsqueeze(1): \\n\", a_test.unsqueeze(-1) * b_test.unsqueeze(1))"
   ]
  },
  {
   "cell_type": "code",
   "execution_count": null,
   "metadata": {},
   "outputs": [],
   "source": [
    "# .sum(0) can be used to get rid of extra [ ]\n",
    "print (\"(a_test.unsqueeze(-1) * b_test.unsqueeze(1)).sum(0): \\n\", (a_test.unsqueeze(-1) * b_test.unsqueeze(1)).sum(0))"
   ]
  },
  {
   "cell_type": "code",
   "execution_count": null,
   "metadata": {},
   "outputs": [],
   "source": [
    "#compute the gradient of loss wrt inp\n",
    "def grad_MSE(target, inp):\n",
    "    inp.g = 2. * (inp.squeeze() - target).unsqueeze(-1) / inp.shape[0]\n",
    "    print(\"inp.g\", inp.g)"
   ]
  },
  {
   "cell_type": "code",
   "execution_count": null,
   "metadata": {},
   "outputs": [],
   "source": [
    "def grad_relu(inp, out):\n",
    "    # grad of relu with respect to input activations\n",
    "    inp.g = (inp>0).float() * out.g"
   ]
  },
  {
   "cell_type": "code",
   "execution_count": null,
   "metadata": {},
   "outputs": [],
   "source": [
    "def grad_lin(inp, out, w, b):\n",
    "    print(\"out.g\", out.g)\n",
    "    # grad of matmul with respect to input\n",
    "    inp.g = out.g @ w.t()\n",
    "    w.g = (inp.unsqueeze(-1) * out.g.unsqueeze(1)).sum(0)\n",
    "    b.g = out.g.sum(0)\n",
    "    print (b.g)"
   ]
  },
  {
   "cell_type": "markdown",
   "metadata": {},
   "source": [
    "### Forward and backward pass"
   ]
  },
  {
   "cell_type": "code",
   "execution_count": null,
   "metadata": {},
   "outputs": [],
   "source": [
    "def forward_and_backward_pass(inp, target, weights1, bias1, weights2, bias2):\n",
    "    #forward pass\n",
    "    lin1_out = lin(inp, weights1, bias1)\n",
    "    relu_out = ReLU(lin1_out)\n",
    "    lin2_out = lin(relu_out, weights2, bias2)\n",
    "    #calling all gradients in reverse order\n",
    "    grad_MSE(target, lin2_out)\n",
    "    grad_lin(relu_out, lin2_out, weights2, bias2)\n",
    "#    grad_relu(lin1_out,relu_out)\n",
    "#    grad_lin(inp,lin1_out, weights1, bias1)\n",
    "    \n",
    "    "
   ]
  },
  {
   "cell_type": "code",
   "execution_count": null,
   "metadata": {},
   "outputs": [],
   "source": [
    "forward_and_backward_pass(x_train, y_train, weights1, bias1, weights2, bias2)"
   ]
  },
  {
   "cell_type": "markdown",
   "metadata": {},
   "source": [
    "## Refactoring"
   ]
  },
  {
   "cell_type": "markdown",
   "metadata": {},
   "source": [
    "All of the above is bit clumsy.  We need nice classes to wrap everything in. "
   ]
  },
  {
   "cell_type": "code",
   "execution_count": 227,
   "metadata": {},
   "outputs": [],
   "source": [
    "class linear():\n",
    "    def __init__(self, weights, bias):\n",
    "        self.w = weights\n",
    "        self.b = bias\n",
    "        self.lr = .1\n",
    "    def __call__(self, inp, target):\n",
    "        self.inp = inp\n",
    "        self.target = target\n",
    "        self.out = self.inp @ self.w + self.b\n",
    "        return self.out\n",
    "    def backward(self):\n",
    "        self.inp.g = self.out.g @ self.w.t()\n",
    "        self.w.g = (self.inp.unsqueeze(-1) * self.out.g.unsqueeze(1)).sum(0)\n",
    "        self.b.g = self.out.g.sum(0)\n",
    "        # Adjust the weights and biases\n",
    "        self.w -= self.w.g * self.lr\n",
    "        self.b -= self.b.g * self.lr"
   ]
  },
  {
   "cell_type": "code",
   "execution_count": 228,
   "metadata": {},
   "outputs": [],
   "source": [
    "class ReLu():\n",
    "    def __call__(self, inp, target):\n",
    "        self.inp = inp\n",
    "        self.out = inp.clamp_min(0.)-0.5\n",
    "        return self.out\n",
    "    def backward(self):\n",
    "        self.inp.g = (self.inp > 0).float() * self.out.g"
   ]
  },
  {
   "cell_type": "code",
   "execution_count": 229,
   "metadata": {},
   "outputs": [],
   "source": [
    "class MSE():\n",
    "    def __call__(self,inp, target):\n",
    "        self.inp = inp\n",
    "        self.targ = target\n",
    "        self.out = (inp.squeeze() - target).pow(2).mean()\n",
    "        return self.out\n",
    "    \n",
    "    def backward(self):\n",
    "        self.inp.g = 2. * (self.inp.squeeze() - self.targ).unsqueeze(-1) / self.targ.shape[0]"
   ]
  },
  {
   "cell_type": "code",
   "execution_count": 230,
   "metadata": {},
   "outputs": [],
   "source": [
    "class model():\n",
    "    def __init__(self, layers, loss_function_class):\n",
    "        self.layers = layers\n",
    "        self.loss_function = loss_function_class()\n",
    "        \n",
    "    def __call__(self, x, targ):\n",
    "        for l in self.layers: x = l(x, targ)\n",
    "        self.loss = self.loss_function(x, targ)\n",
    "        return x\n",
    "    \n",
    "    def backward(self):\n",
    "        self.loss_function.backward()\n",
    "        for l in reversed(self.layers): l.backward()\n",
    "    def zero_grad(self):\n",
    "        for l in self.layers:\n",
    "            if hasattr(l, 'w'):\n",
    "                l.w.g.zero_()\n",
    "                l.b.g.zero_()"
   ]
  },
  {
   "cell_type": "markdown",
   "metadata": {},
   "source": [
    "## Get data and normalize it"
   ]
  },
  {
   "cell_type": "code",
   "execution_count": 66,
   "metadata": {},
   "outputs": [
    {
     "name": "stdout",
     "output_type": "stream",
     "text": [
      "50000 784\n"
     ]
    }
   ],
   "source": [
    "nh = 50\n",
    "\n",
    "x_train,y_train,x_valid,y_valid = get_data()\n",
    "\n",
    "n,a = x_train.shape\n",
    "\n",
    "print (n,a)"
   ]
  },
  {
   "cell_type": "code",
   "execution_count": 67,
   "metadata": {},
   "outputs": [
    {
     "data": {
      "text/plain": [
       "(tensor(0.1304), tensor(0.3073))"
      ]
     },
     "execution_count": 67,
     "metadata": {},
     "output_type": "execute_result"
    }
   ],
   "source": [
    "train_mean,train_std = x_train.mean(),x_train.std()\n",
    "train_mean,train_std"
   ]
  },
  {
   "cell_type": "code",
   "execution_count": 68,
   "metadata": {},
   "outputs": [],
   "source": [
    "x_train = normalize(x_train, train_mean, train_std)\n",
    "x_valid = normalize(x_valid, train_mean, train_std)"
   ]
  },
  {
   "cell_type": "code",
   "execution_count": 69,
   "metadata": {},
   "outputs": [
    {
     "data": {
      "text/plain": [
       "(tensor(-7.6999e-06), tensor(1.))"
      ]
     },
     "execution_count": 69,
     "metadata": {},
     "output_type": "execute_result"
    }
   ],
   "source": [
    "train_mean,train_std = x_train.mean(),x_train.std()\n",
    "train_mean,train_std"
   ]
  },
  {
   "cell_type": "code",
   "execution_count": 70,
   "metadata": {},
   "outputs": [],
   "source": [
    "y_train, y_valid = y_train.float(),y_valid.float()"
   ]
  },
  {
   "cell_type": "markdown",
   "metadata": {},
   "source": [
    "## Initialize weights and use Kaiming init"
   ]
  },
  {
   "cell_type": "code",
   "execution_count": null,
   "metadata": {},
   "outputs": [],
   "source": [
    "# simplified kaiming init / he init\n",
    "weights1 = torch.randn(a,nh)/math.sqrt(a)\n",
    "bias1 = torch.zeros(nh)\n",
    "weights2 = torch.randn(nh,1)/math.sqrt(nh)\n",
    "bias2 = torch.zeros(1)\n",
    "\n",
    "weights1.g,bias1.g,weights2.g,bias2.g = [None]*4\n"
   ]
  },
  {
   "cell_type": "markdown",
   "metadata": {},
   "source": [
    "## Create the model"
   ]
  },
  {
   "cell_type": "code",
   "execution_count": null,
   "metadata": {},
   "outputs": [],
   "source": [
    "m = model([linear(weights1,bias1), ReLu(), linear(weights2,bias2)], MSE)\n",
    "\n",
    "x_train = x_train.float()\n",
    "y_train = y_train.float()"
   ]
  },
  {
   "cell_type": "markdown",
   "metadata": {},
   "source": [
    "Time test the forward pass"
   ]
  },
  {
   "cell_type": "code",
   "execution_count": null,
   "metadata": {},
   "outputs": [],
   "source": [
    "%time loss = m(x_train, y_train)"
   ]
  },
  {
   "cell_type": "markdown",
   "metadata": {},
   "source": [
    "Time test the backward pass"
   ]
  },
  {
   "cell_type": "code",
   "execution_count": null,
   "metadata": {
    "scrolled": true
   },
   "outputs": [],
   "source": [
    "%time m.backward()"
   ]
  },
  {
   "cell_type": "markdown",
   "metadata": {},
   "source": [
    "# Cross entropy"
   ]
  },
  {
   "cell_type": "markdown",
   "metadata": {},
   "source": [
    "In the improved architecture we want to use cross entropy for classification.  We start by building softmax, negative log loss and computing gradient for cross entropy loss"
   ]
  },
  {
   "cell_type": "markdown",
   "metadata": {},
   "source": [
    "### Softmax"
   ]
  },
  {
   "cell_type": "markdown",
   "metadata": {},
   "source": [
    "Idea is to turn the output of the nn into a probaility distribution.  One way to do this is with softmax.  For vector $X = (x_i)$\n",
    "    \n",
    "  $$Sm_i(X) = \\frac{e^{x_i}}{\\sum e^{x_j}} $$\n",
    "  .\n",
    "  \n",
    "  "
   ]
  },
  {
   "cell_type": "code",
   "execution_count": 89,
   "metadata": {},
   "outputs": [],
   "source": [
    "def my_softmax(x):\n",
    "    return x.exp() / x.exp().sum(-1, keepdim = True)"
   ]
  },
  {
   "cell_type": "code",
   "execution_count": 90,
   "metadata": {},
   "outputs": [],
   "source": [
    "def softmax(x):\n",
    "    return torch.nn.Softmax(1)(x)"
   ]
  },
  {
   "cell_type": "markdown",
   "metadata": {},
   "source": [
    "## log softmax"
   ]
  },
  {
   "cell_type": "markdown",
   "metadata": {},
   "source": [
    "log softmax is just $\\ln Sm_i$."
   ]
  },
  {
   "cell_type": "code",
   "execution_count": null,
   "metadata": {},
   "outputs": [],
   "source": [
    "# def log_softmax(x):\n",
    "#    return (x.exp() / x.exp().sum(-1, keepdim = True)).log()"
   ]
  },
  {
   "cell_type": "markdown",
   "metadata": {},
   "source": [
    "Lets use some exponential tricks to make this more computable"
   ]
  },
  {
   "cell_type": "markdown",
   "metadata": {},
   "source": [
    "$$\\ln Sm_i = x_i - \\ln \\sum e^{x_j}$$"
   ]
  },
  {
   "cell_type": "code",
   "execution_count": null,
   "metadata": {},
   "outputs": [],
   "source": [
    "#def log_softmax(x):\n",
    "#    return x - x.exp().sum(-1, keepdim = True).log()"
   ]
  },
  {
   "cell_type": "markdown",
   "metadata": {},
   "source": [
    "Common trick to make this more computable is to factor out the max power m to reduce the magnitude of the exponents."
   ]
  },
  {
   "cell_type": "markdown",
   "metadata": {},
   "source": [
    "$$\\ln Sm_i = x_i - \\ln e^m \\sum e^{x_j-m}$$\n",
    "$$\\ln Sm_i = x_i - m + \\ln \\sum e^{x_j-m}$$"
   ]
  },
  {
   "cell_type": "code",
   "execution_count": 85,
   "metadata": {},
   "outputs": [],
   "source": [
    "def log_softmax(x):\n",
    "    m = x.max(-1)[0]\n",
    "    return x - m[:,None] - (x-m[:,None]).exp().sum(-1, keepdim = True).log()"
   ]
  },
  {
   "cell_type": "code",
   "execution_count": 91,
   "metadata": {},
   "outputs": [
    {
     "data": {
      "text/plain": [
       "tensor([[0., 0., 0., 0., 0., 1., 0., 0., 0., 0.]])"
      ]
     },
     "execution_count": 91,
     "metadata": {},
     "output_type": "execute_result"
    }
   ],
   "source": [
    "softmax(preds)"
   ]
  },
  {
   "cell_type": "markdown",
   "metadata": {},
   "source": [
    "## Cross entropy loss"
   ]
  },
  {
   "cell_type": "markdown",
   "metadata": {},
   "source": [
    "Given a prediction $p = (p_i)$ and a one hot encoded target $y = (0, ..., 1, ..., 0)$ with 1 occuring in the ith slot. Cross entropy loss is defined as:\n",
    "\n",
    "$$\\text{loss} = -y \\cdot \\ln p$$\n",
    "\n",
    "Of course here $p_i$ is just $Sm_i$\n",
    "\n",
    "so\n",
    "\n",
    "$$\\text{loss} = -\\sum y_i\\ln Sm_i$$\n",
    "\n",
    "or\n",
    "\n",
    "$$\\text{loss} = -\\sum_i y_i(x_i + \\ln \\sum_j e^{x_j})$$\n"
   ]
  },
  {
   "cell_type": "markdown",
   "metadata": {},
   "source": [
    "## Gradient of cross entropy loss"
   ]
  },
  {
   "cell_type": "markdown",
   "metadata": {},
   "source": [
    "From the above we can compute \n",
    "\n",
    "$$\\frac{\\partial \\text{loss}}{\\partial x_k } = -\\sum_i y_i \\frac{\\partial}{\\partial x_k}\\ln Sm_i$$\n",
    "\n",
    "$$\\frac{\\partial}{\\partial x_k}\\ln Sm_i = - \\frac{e^{x_k}}{\\sum_j e^{x_j}} = -Sm_k \\text{ when } i \\neq k$$\n",
    "\n",
    "$$\\frac{\\partial}{\\partial x_k}\\ln Sm_i = 1 - \\frac{e^{x_i}}{\\sum_j e^{x_j}} = 1 - Sm_k \\text{ when } i = k$$\n",
    "\n",
    "So,\n",
    "\n",
    "$$\\frac{\\partial \\text{loss}}{\\partial x_k } = \\left(\\sum_{i \\neq k} y_i Sm_k\\right) + y_k(Sm_k - 1)$$\n",
    "\n",
    "Now $y$ is one hot encoded and all $y_i$ are zero except say for some $y_t$.  If $t \\neq k$ then $\\frac{\\partial \\text{loss}}{\\partial x_k }= Sm_k$.  If $t = k$ then $\\frac{\\partial \\text{loss}}{\\partial x_k } = Sm_t - 1$"
   ]
  },
  {
   "cell_type": "markdown",
   "metadata": {},
   "source": [
    "#### Discussion on how to implement cross entropy and how to implement the gradient of cross entropy\n",
    "\n",
    "torch has a number of indexing trics that are helpful. Namely we can index one tensor with another.  Consider the following set up:"
   ]
  },
  {
   "cell_type": "code",
   "execution_count": null,
   "metadata": {},
   "outputs": [],
   "source": [
    "a_sample = torch.randn(2,10)\n",
    "b_sample = torch.randint(0,9,[2])\n",
    "print (a_sample)\n",
    "print(b_sample)"
   ]
  },
  {
   "cell_type": "markdown",
   "metadata": {},
   "source": [
    "We will now index a_sample by the indeces of b_sample.  First we list the rows where we want to grab corresponding entries as indexed by b_sample."
   ]
  },
  {
   "cell_type": "code",
   "execution_count": null,
   "metadata": {},
   "outputs": [],
   "source": [
    "a_sample[range(b_sample.shape[0]), b_sample]"
   ]
  },
  {
   "cell_type": "markdown",
   "metadata": {},
   "source": [
    "This leads us to writing a cross entropy function:"
   ]
  },
  {
   "cell_type": "code",
   "execution_count": 21,
   "metadata": {},
   "outputs": [],
   "source": [
    "def cross_entropy(inp, targ):\n",
    "    lsm = log_softmax(inp)\n",
    "    loss = -lsm[range(targ.shape[0]), targ].mean()     \n",
    "    return loss"
   ]
  },
  {
   "cell_type": "code",
   "execution_count": 22,
   "metadata": {},
   "outputs": [],
   "source": [
    "def grad_cross_entropy(inp, targ):\n",
    "    grad = softmax(inp)\n",
    "    grad[range(targ.shape[0]),targ] -= 1\n",
    "\n",
    "    return grad/targ.shape[0]"
   ]
  },
  {
   "cell_type": "markdown",
   "metadata": {},
   "source": [
    "## Cross entropy class"
   ]
  },
  {
   "cell_type": "code",
   "execution_count": 119,
   "metadata": {},
   "outputs": [],
   "source": [
    "class cross_entropy_class:\n",
    "    def softmax(self,x):\n",
    "        return torch.nn.Softmax(1)(x)\n",
    "    \n",
    "    def log_softmax(self,x):\n",
    "        m = x.max(-1)[0]        \n",
    "        return self.softmax(x).log()\n",
    "    \n",
    "    def grad_cross_entropy(self):\n",
    "        grad = self.softmax(self.inp)\n",
    "        grad[range(self.targ.shape[0]),self.targ] -= 1\n",
    "        grad /= self.targ.shape[0]\n",
    "        return grad\n",
    "        \n",
    "\n",
    "    \n",
    "    def __call__(self,inp, targ):\n",
    "        self.inp = inp\n",
    "        self.targ = targ\n",
    "        lsm = self.log_softmax(inp)\n",
    "        self.out = -lsm[range(self.targ.shape[0]), self.targ].mean()    \n",
    "     \n",
    "        return self.out\n",
    "    \n",
    "    def backward(self):\n",
    "        self.inp.g = self.grad_cross_entropy()  "
   ]
  },
  {
   "cell_type": "code",
   "execution_count": null,
   "metadata": {},
   "outputs": [],
   "source": []
  },
  {
   "cell_type": "markdown",
   "metadata": {},
   "source": [
    "#### Test that our cross entropy function is the same as pytorch cross entropy"
   ]
  },
  {
   "cell_type": "code",
   "execution_count": 72,
   "metadata": {},
   "outputs": [
    {
     "name": "stdout",
     "output_type": "stream",
     "text": [
      "tensor(0.4181)\n",
      "tensor(0.4181)\n"
     ]
    }
   ],
   "source": [
    "import torch\n",
    "import torch.nn as nn\n",
    "from torch.autograd import Variable\n",
    "\n",
    "a_pred = Variable(torch.randn(1,4))\n",
    "\n",
    "b_target = Variable(torch.LongTensor([3]))\n",
    "\n",
    "criterion = nn.CrossEntropyLoss()\n",
    "loss = criterion(a_pred, b_target)\n",
    "print(loss)\n",
    "\n",
    "print(cross_entropy(a_pred, b_target))\n",
    "\n"
   ]
  },
  {
   "cell_type": "markdown",
   "metadata": {},
   "source": [
    "# Training loop"
   ]
  },
  {
   "cell_type": "markdown",
   "metadata": {},
   "source": [
    "Anatomy of the loop:\n",
    "\n",
    "loop for number of epocs\n",
    "- get data batch\n",
    "- run forward pass\n",
    "- evaluate loss\n",
    "- run backward pass\n",
    "- zero gradients"
   ]
  },
  {
   "cell_type": "markdown",
   "metadata": {},
   "source": [
    "# Set up model for using cross entropy"
   ]
  },
  {
   "cell_type": "code",
   "execution_count": 231,
   "metadata": {},
   "outputs": [],
   "source": [
    "#batch size\n",
    "bs = 64"
   ]
  },
  {
   "cell_type": "code",
   "execution_count": 232,
   "metadata": {},
   "outputs": [],
   "source": [
    "# data\n",
    "x_train,y_train,x_valid,y_valid = get_data()\n",
    "\n",
    "x_train_mean = x_train.mean()\n",
    "x_train_std = x_train.std()\n",
    "x_valid_mean = x_valid.mean()\n",
    "x_valid_std = x_valid.std()\n",
    "\n",
    "x_train = normalize(x_train, x_train_mean, x_train_std)\n",
    "x_valid = normalize(x_valid, x_valid_mean, x_valid_std)\n",
    "\n",
    "y_train, y_valid = y_train.long(),y_valid.long()"
   ]
  },
  {
   "cell_type": "code",
   "execution_count": 233,
   "metadata": {},
   "outputs": [
    {
     "name": "stdout",
     "output_type": "stream",
     "text": [
      "50000 784\n"
     ]
    }
   ],
   "source": [
    "#layer dimensions\n",
    "nh = 50\n",
    "out = 10\n",
    "n,a = x_train.shape\n",
    "print(n,a)"
   ]
  },
  {
   "cell_type": "code",
   "execution_count": 234,
   "metadata": {},
   "outputs": [],
   "source": [
    "# simplified kaiming init / he init\n",
    "weights1 = torch.randn(a,nh)/math.sqrt(a)\n",
    "bias1 = torch.zeros(nh)\n",
    "weights2 = torch.randn(nh,out)/math.sqrt(nh)\n",
    "bias2 = torch.zeros(out)\n",
    "\n",
    "weights1.g,bias1.g,weights2.g,bias2.g = [None]*4"
   ]
  },
  {
   "cell_type": "code",
   "execution_count": 235,
   "metadata": {},
   "outputs": [],
   "source": [
    "m = model([linear(weights1,bias1), ReLu(), linear(weights2,bias2)], cross_entropy_class)"
   ]
  },
  {
   "cell_type": "code",
   "execution_count": 236,
   "metadata": {},
   "outputs": [
    {
     "data": {
      "text/plain": [
       "torch.Size([64, 10])"
      ]
     },
     "execution_count": 236,
     "metadata": {},
     "output_type": "execute_result"
    }
   ],
   "source": [
    "x_batch = x_train[0:bs]\n",
    "y_batch = y_train[0:bs]\n",
    "\n",
    "preds = m(x_batch,y_batch)\n",
    "preds.shape"
   ]
  },
  {
   "cell_type": "code",
   "execution_count": null,
   "metadata": {},
   "outputs": [],
   "source": []
  },
  {
   "cell_type": "markdown",
   "metadata": {},
   "source": [
    "## The training loop"
   ]
  },
  {
   "cell_type": "code",
   "execution_count": 237,
   "metadata": {},
   "outputs": [
    {
     "name": "stdout",
     "output_type": "stream",
     "text": [
      "tensor(0.0107)\n"
     ]
    }
   ],
   "source": [
    "eps = 10\n",
    "# lr is in the model\n",
    "for epoch in range(eps):\n",
    "    for i in range((n-1)//bs + 1):\n",
    "        start_i = i*bs\n",
    "        end_i = start_i+bs\n",
    "        xb = x_train[start_i:end_i]\n",
    "        yb = y_train[start_i:end_i]\n",
    "        pred = m(xb,yb)\n",
    "        m.backward()\n",
    "        m.zero_grad()\n",
    "\n",
    "print(m.loss)"
   ]
  },
  {
   "cell_type": "markdown",
   "metadata": {},
   "source": [
    "## Test the accuracy of the model"
   ]
  },
  {
   "cell_type": "code",
   "execution_count": 238,
   "metadata": {},
   "outputs": [],
   "source": [
    "def accuracy(out, yb): return (torch.argmax(out, dim=1)==yb).float().mean()"
   ]
  },
  {
   "cell_type": "code",
   "execution_count": 248,
   "metadata": {},
   "outputs": [
    {
     "data": {
      "text/plain": [
       "tensor(0.9717)"
      ]
     },
     "execution_count": 248,
     "metadata": {},
     "output_type": "execute_result"
    }
   ],
   "source": [
    "preds = m(x_valid,y_valid)\n",
    "accuracy(preds,y_valid)"
   ]
  },
  {
   "cell_type": "markdown",
   "metadata": {},
   "source": [
    "### Demonstration of the model accuracy"
   ]
  },
  {
   "cell_type": "markdown",
   "metadata": {},
   "source": [
    "We will take a random sample of the validation set and display the images.  Then we will see what the model predicts the images to be."
   ]
  },
  {
   "cell_type": "code",
   "execution_count": 249,
   "metadata": {},
   "outputs": [],
   "source": [
    "rand_columns = torch.randperm(1024)[:10]\n",
    "random_sample = x_valid[rand_columns]"
   ]
  },
  {
   "cell_type": "code",
   "execution_count": 250,
   "metadata": {},
   "outputs": [],
   "source": [
    "x_batch = random_sample\n",
    "y_batch = y_valid[rand_columns]"
   ]
  },
  {
   "cell_type": "code",
   "execution_count": 251,
   "metadata": {},
   "outputs": [],
   "source": [
    "preds = m(x_batch, y_batch)"
   ]
  },
  {
   "cell_type": "code",
   "execution_count": 252,
   "metadata": {},
   "outputs": [],
   "source": [
    "predictions = torch.argmax(preds, dim=1)"
   ]
  },
  {
   "cell_type": "code",
   "execution_count": 253,
   "metadata": {},
   "outputs": [
    {
     "data": {
      "text/plain": [
       "tensor([1, 4, 7, 4, 5, 9, 2, 2, 6, 7])"
      ]
     },
     "execution_count": 253,
     "metadata": {},
     "output_type": "execute_result"
    }
   ],
   "source": [
    "y_batch"
   ]
  },
  {
   "cell_type": "code",
   "execution_count": 254,
   "metadata": {},
   "outputs": [
    {
     "data": {
      "image/png": "[encoded data removed]",
      "text/plain": [
       "<Figure size 576x576 with 10 Axes>"
      ]
     },
     "metadata": {
      "needs_background": "light"
     },
     "output_type": "display_data"
    },
    {
     "name": "stdout",
     "output_type": "stream",
     "text": [
      "To me these look like: \n",
      "1\n",
      "4\n",
      "7\n",
      "4\n",
      "5\n",
      "9\n",
      "2\n",
      "2\n",
      "6\n",
      "7\n"
     ]
    }
   ],
   "source": [
    "mpl.rcParams['image.cmap'] = 'gray'\n",
    "columns = 4\n",
    "rows = 5\n",
    "fig=plt.figure(figsize=(8, 8))\n",
    "for i in range (0, 10):\n",
    "    img = x_batch[i]\n",
    "    fig.add_subplot(rows, columns, i+1)\n",
    "    plt.imshow(img.view((28,28)));\n",
    "plt.show()\n",
    "\n",
    "print (\"To me these look like: \")\n",
    "for i in range (0, preds.shape[0]):\n",
    "    print (predictions[i].item())"
   ]
  },
  {
   "cell_type": "code",
   "execution_count": null,
   "metadata": {},
   "outputs": [],
   "source": []
  },
  {
   "cell_type": "code",
   "execution_count": null,
   "metadata": {},
   "outputs": [],
   "source": []
  }
 ],
 "metadata": {
  "kernelspec": {
   "display_name": "Python 3",
   "language": "python",
   "name": "python3"
  },
  "language_info": {
   "codemirror_mode": {
    "name": "ipython",
    "version": 3
   },
   "file_extension": ".py",
   "mimetype": "text/x-python",
   "name": "python",
   "nbconvert_exporter": "python",
   "pygments_lexer": "ipython3",
   "version": "3.7.1"
  }
 },
 "nbformat": 4,
 "nbformat_minor": 2
}
